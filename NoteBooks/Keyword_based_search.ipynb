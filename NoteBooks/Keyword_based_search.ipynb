{
  "nbformat": 4,
  "nbformat_minor": 0,
  "metadata": {
    "colab": {
      "provenance": []
    },
    "kernelspec": {
      "name": "python3",
      "display_name": "Python 3"
    },
    "language_info": {
      "name": "python"
    }
  },
  "cells": [
    {
      "cell_type": "code",
      "execution_count": null,
      "metadata": {
        "id": "GvzCnHFP8NR5"
      },
      "outputs": [],
      "source": [
        "import pandas as pd"
      ]
    },
    {
      "cell_type": "code",
      "source": [
        "from google.colab import drive\n",
        "drive.mount('/content/drive')"
      ],
      "metadata": {
        "colab": {
          "base_uri": "https://localhost:8080/"
        },
        "id": "169JqYm-8blb",
        "outputId": "d4aa74b2-640c-403f-9be9-f73d891944d5"
      },
      "execution_count": null,
      "outputs": [
        {
          "output_type": "stream",
          "name": "stdout",
          "text": [
            "Mounted at /content/drive\n"
          ]
        }
      ]
    },
    {
      "cell_type": "code",
      "source": [
        "df = pd.read_csv('/content/drive/MyDrive/eng_movie_subtitles.csv')"
      ],
      "metadata": {
        "id": "WENx5aiu9CL3"
      },
      "execution_count": null,
      "outputs": []
    },
    {
      "cell_type": "code",
      "source": [
        "df.rename(columns={'Unnamed: 0': 'index'}, inplace=True)"
      ],
      "metadata": {
        "id": "FiQbIyjn88Gt"
      },
      "execution_count": null,
      "outputs": []
    },
    {
      "cell_type": "markdown",
      "source": [
        "**Converting the text to vectors:**\n",
        "\n",
        "i.Instantiate the TF-IDF vectorizer\n",
        "\n",
        "ii. Fit the vectorizer to learn the vocabulary\n",
        "\n",
        "iii. Transform the text data into TF-IDF vectors\n",
        "\n",
        "The TF-IDF Vector is a sparse matrix containing the vectors of text in the file_content column"
      ],
      "metadata": {
        "id": "9-Ix5IeQ-EOo"
      }
    },
    {
      "cell_type": "code",
      "source": [
        "from sklearn.feature_extraction.text import TfidfVectorizer\n",
        "\n",
        "#\n",
        "tfidf_vectorizer = TfidfVectorizer()\n",
        "\n",
        "# Fit the vectorizer on the text data to learn the vocabulary\n",
        "tfidf_vectorizer.fit(df['file_content'])\n",
        "\n",
        "# Transform the text data into TF-IDF vectors\n",
        "tfidf_vectors = tfidf_vectorizer.transform(df['file_content'])\n",
        "\n",
        "# tfidf_vectors is now a sparse matrix containing TF-IDF vectors for each document in the 'file_content' column\n"
      ],
      "metadata": {
        "id": "wgCXBn3T9NjX"
      },
      "execution_count": null,
      "outputs": []
    },
    {
      "cell_type": "code",
      "source": [
        "import re\n",
        "def clean_text(text):\n",
        "    text = text.strip()\n",
        "    text = re.sub(r'^\\d+\\s', '', text)\n",
        "    text = re.sub(r'\\r\\n', ' ', text)\n",
        "    text = re.sub(r'[^\\x00-\\x7F]+', '', text)\n",
        "    text = re.sub(r'<[^>]+>', '', text)\n",
        "    text = re.sub(r'\\d{2}:\\d{2}:\\d{2},\\d{3} --> \\d{2}:\\d{2}:\\d{2},\\d{3}', '', text)\n",
        "    text = text.lower()\n",
        "    text = re.sub(r'[^\\w\\s]', '', text)\n",
        "    text = ' '.join(text.split())\n",
        "    return text"
      ],
      "metadata": {
        "id": "Z4I3rwa1-8UZ"
      },
      "execution_count": null,
      "outputs": []
    },
    {
      "cell_type": "code",
      "source": [
        "search_input = input(\"Enter your search query:\")\n",
        "search_input = clean_text(search_input)\n",
        "search_input_vector = tfidf_vectorizer.transform([search_input])\n",
        "\n"
      ],
      "metadata": {
        "colab": {
          "base_uri": "https://localhost:8080/"
        },
        "id": "p7A7x8f--xET",
        "outputId": "25d3c758-2096-48d3-b362-20d8eb989bd6"
      },
      "execution_count": null,
      "outputs": [
        {
          "name": "stdout",
          "output_type": "stream",
          "text": [
            "Enter your search query:Hello\n"
          ]
        }
      ]
    },
    {
      "cell_type": "code",
      "source": [
        "from sklearn.metrics.pairwise import cosine_similarity\n",
        "\n",
        "# Calculate cosine similarity between search_input_vector and all TF-IDF vectors\n",
        "cosine_similarities = cosine_similarity(search_input_vector, tfidf_vectors)\n",
        "\n",
        "# Get the indices of the top 5 most similar documents\n",
        "top_indices = cosine_similarities.argsort(axis=1)[0][-5:][::-1]\n",
        "\n",
        "# Get the actual TF-IDF vectors of the top 5 most similar documents\n",
        "top_tfidf_vectors = tfidf_vectors[top_indices]\n",
        "\n",
        "# Optionally, you can also get the cosine similarity scores of the top 5 most similar documents\n",
        "top_cosine_similarities = cosine_similarities[0][top_indices]\n",
        "\n",
        "print(top_tfidf_vectors)"
      ],
      "metadata": {
        "colab": {
          "base_uri": "https://localhost:8080/"
        },
        "id": "9UuVm4SqArkO",
        "outputId": "2ada0a12-2785-48c1-dadb-aabffdf389b8"
      },
      "execution_count": null,
      "outputs": [
        {
          "output_type": "stream",
          "name": "stdout",
          "text": [
            "  (0, 1868276)\t0.010376092361925058\n",
            "  (0, 1866695)\t0.013169079672185805\n",
            "  (0, 1866599)\t0.008555513182346453\n",
            "  (0, 1865680)\t0.01663470933798564\n",
            "  (0, 1864091)\t0.20804058334464062\n",
            "  (0, 1862468)\t0.036854518959040364\n",
            "  (0, 1861796)\t0.010644331277539892\n",
            "  (0, 1861075)\t0.01472650033924889\n",
            "  (0, 1858626)\t0.5260206798095033\n",
            "  (0, 1853002)\t0.04383505665079194\n",
            "  (0, 1849202)\t0.007578066976229678\n",
            "  (0, 1849071)\t0.022336932024099927\n",
            "  (0, 1848700)\t0.005298301198074043\n",
            "  (0, 1848677)\t0.012146990365447904\n",
            "  (0, 1847973)\t0.008870057057590372\n",
            "  (0, 1847637)\t0.07990618555643371\n",
            "  (0, 1847529)\t0.011725385003818433\n",
            "  (0, 1847324)\t0.01911552079760877\n",
            "  (0, 1847221)\t0.00961603773842297\n",
            "  (0, 1846561)\t0.005168131924231964\n",
            "  (0, 1844715)\t0.004260161331263054\n",
            "  (0, 1843287)\t0.013120707692654691\n",
            "  (0, 1842258)\t0.013221915627723192\n",
            "  (0, 1842153)\t0.028593131925499015\n",
            "  (0, 1842014)\t0.010654098130737406\n",
            "  :\t:\n",
            "  (4, 1278712)\t0.0013273741946392566\n",
            "  (4, 1278711)\t0.0005582468798397868\n",
            "  (4, 1278561)\t0.0013269590435636238\n",
            "  (4, 1278497)\t0.0013257156323432816\n",
            "  (4, 1278392)\t0.0013230320224940485\n",
            "  (4, 1278295)\t0.00132292909073396\n",
            "  (4, 1278206)\t0.0013162830930108789\n",
            "  (4, 1278121)\t0.0013193396216126696\n",
            "  (4, 1278028)\t0.0013160799801264227\n",
            "  (4, 1277955)\t0.0013154711307380054\n",
            "  (4, 1277801)\t0.00131516698085048\n",
            "  (4, 1277686)\t0.0013111290412109752\n",
            "  (4, 1277685)\t0.0005579522447943309\n",
            "  (4, 1277497)\t0.0013124378365404372\n",
            "  (4, 1277432)\t0.0013108274921877123\n",
            "  (4, 1277348)\t0.0013091221042634553\n",
            "  (4, 1277128)\t0.0013080216762250628\n",
            "  (4, 1276949)\t0.0013063257131407803\n",
            "  (4, 1276866)\t0.0013047346942196346\n",
            "  (4, 1276783)\t0.0013037428445956914\n",
            "  (4, 1276662)\t0.0013018636756730708\n",
            "  (4, 1276600)\t0.0012988125830491303\n",
            "  (4, 1276263)\t0.004635818611393161\n",
            "  (4, 1276262)\t0.0005511108354727976\n",
            "  (4, 1276261)\t0.0021646907094399997\n"
          ]
        }
      ]
    },
    {
      "cell_type": "code",
      "source": [
        "# Get the names corresponding to the file_content for the top 5 most similar documents\n",
        "top_names = df.iloc[top_indices]['name'].values\n",
        "\n",
        "# Now top_names contains the names corresponding to the top 5 most similar documents\n",
        "for i in top_names:\n",
        "  print(i)\n"
      ],
      "metadata": {
        "colab": {
          "base_uri": "https://localhost:8080/"
        },
        "id": "BaKGkI0MFl9U",
        "outputId": "d4d0d53f-10d8-4458-f8a0-f0815f2e59da"
      },
      "execution_count": null,
      "outputs": [
        {
          "output_type": "stream",
          "name": "stdout",
          "text": [
            "Infinitum Subject Unknown\n",
            "Dead End S01 E02 Episode 2\n",
            "Kheili Dour Kheili Nazdik\n",
            "True Colours S01 E01 Episode 1 1\n",
            "Saturday Night Live S01 E19 Madeline Kahncarly Simon\n"
          ]
        }
      ]
    }
  ]
}